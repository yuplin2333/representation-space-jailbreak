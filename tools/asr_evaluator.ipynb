{
 "cells": [
  {
   "cell_type": "code",
   "execution_count": null,
   "metadata": {},
   "outputs": [],
   "source": [
    "from tqdm import tqdm\n",
    "\n",
    "from jailbreak import check_jailbreak_success\n",
    "from utils import load_dataset, load_model_and_tokenizer"
   ]
  },
  {
   "cell_type": "code",
   "execution_count": null,
   "metadata": {},
   "outputs": [],
   "source": [
    "MODEL_PATH = \"model/Llama-2-7b-chat-hf\"\n",
    "\n",
    "model, tokenizer = load_model_and_tokenizer(MODEL_PATH)"
   ]
  },
  {
   "cell_type": "code",
   "execution_count": null,
   "metadata": {},
   "outputs": [],
   "source": [
    "DATASET_PATH = \"./data/advbench/harmful_behaviors.csv\"\n",
    "\n",
    "dataset = load_dataset(DATASET_PATH, column_name=\"goal\").to_numpy()\n",
    "dataset = [1:101]"
   ]
  },
  {
   "cell_type": "code",
   "execution_count": null,
   "metadata": {},
   "outputs": [],
   "source": [
    "success_count = 0\n",
    "total_length = len(dataset)\n",
    "\n",
    "for idx, prompt in tqdm(enumerate(dataset), total=total_length):\n",
    "    jailbroken, response = check_jailbreak_success(model, tokenizer, prompt, return_response=True)\n",
    "    if jailbroken:\n",
    "        success_count += 1\n",
    "    print(f\"[{idx}, {jailbroken}]: {repr(prompt)} -> {repr(response)}\")\n",
    "\n",
    "asr = success_count / total_length\n",
    "print(f\"ASR: {asr} ({success_count}/{total_length})\")"
   ]
  }
 ],
 "metadata": {
  "kernelspec": {
   "display_name": "pca",
   "language": "python",
   "name": "python3"
  },
  "language_info": {
   "codemirror_mode": {
    "name": "ipython",
    "version": 3
   },
   "file_extension": ".py",
   "mimetype": "text/x-python",
   "name": "python",
   "nbconvert_exporter": "python",
   "pygments_lexer": "ipython3",
   "version": "3.11.8"
  }
 },
 "nbformat": 4,
 "nbformat_minor": 2
}
