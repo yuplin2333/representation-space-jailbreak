{
 "cells": [
  {
   "cell_type": "code",
   "execution_count": 31,
   "metadata": {},
   "outputs": [],
   "source": [
    "PATH_TO_CSV = \"results/ours_autodan/llama2-7b/100.csv\""
   ]
  },
  {
   "cell_type": "code",
   "execution_count": 32,
   "metadata": {},
   "outputs": [
    {
     "data": {
      "text/plain": [
       "array([0.07, 0.2 ])"
      ]
     },
     "execution_count": 32,
     "metadata": {},
     "output_type": "execute_result"
    }
   ],
   "source": [
    "import pandas as pd\n",
    "import numpy as np\n",
    "from sklearn.utils import resample\n",
    "\n",
    "# Read the CSV file into a DataFrame\n",
    "df = pd.read_csv(PATH_TO_CSV)\n",
    "\n",
    "# Perform bootstrap resampling\n",
    "n_iterations = 10000\n",
    "n_size = len(df)\n",
    "bootstrap_means = []\n",
    "for _ in range(n_iterations):\n",
    "    sample = resample(df['jailbroken'], n_samples=n_size)\n",
    "    bootstrap_means.append(sample.mean())\n",
    "\n",
    "# Calculate the 95% confidence interval\n",
    "confidence_interval = np.percentile(bootstrap_means, [2.5, 97.5])\n",
    "\n",
    "confidence_interval"
   ]
  },
  {
   "cell_type": "code",
   "execution_count": 33,
   "metadata": {},
   "outputs": [
    {
     "name": "stdout",
     "output_type": "stream",
     "text": [
      "95% CI: (0.07, 0.2)\n"
     ]
    }
   ],
   "source": [
    "import numpy as np\n",
    "import pandas as pd\n",
    "\n",
    "df = pd.read_csv(PATH_TO_CSV)\n",
    "\n",
    "# 设置bootstrap参数\n",
    "n_iterations = 10000\n",
    "alpha = 0.95\n",
    "\n",
    "# 定义存储bootstrap样本的数组\n",
    "samples = []\n",
    "for _ in range(n_iterations):\n",
    "    sample = df['jailbroken'].sample(n=len(df), replace=True)\n",
    "    asr = sample.mean()  # 计算ASR，即True值的比例\n",
    "    samples.append(asr)\n",
    "\n",
    "# 转换为DataFrame\n",
    "samples_df = pd.DataFrame(samples, columns=['ASR'])\n",
    "\n",
    "# 计算置信区间\n",
    "lower_bound = samples_df['ASR'].quantile((1.0 - alpha) / 2.0)\n",
    "upper_bound = samples_df['ASR'].quantile(alpha + (1.0 - alpha) / 2.0)\n",
    "\n",
    "print(f\"95% CI: ({lower_bound}, {upper_bound})\")\n"
   ]
  }
 ],
 "metadata": {
  "kernelspec": {
   "display_name": "pca",
   "language": "python",
   "name": "python3"
  },
  "language_info": {
   "codemirror_mode": {
    "name": "ipython",
    "version": 3
   },
   "file_extension": ".py",
   "mimetype": "text/x-python",
   "name": "python",
   "nbconvert_exporter": "python",
   "pygments_lexer": "ipython3",
   "version": "3.11.7"
  }
 },
 "nbformat": 4,
 "nbformat_minor": 2
}
