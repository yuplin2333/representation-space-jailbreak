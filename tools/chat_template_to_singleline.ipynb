{
 "cells": [
  {
   "cell_type": "code",
   "execution_count": 1,
   "metadata": {},
   "outputs": [
    {
     "data": {
      "text/plain": [
       "\"{% if messages[0]['role'] == 'system' %}{% set loop_messages = messages[1:] %}{% set system_message = messages[0]['content'].strip() + '' %}{% else %}{% set loop_messages = messages %}{% set system_message = '' %}{% endif %}{{ bos_token + system_message }}{% for message in loop_messages %}{% if (message['role'] == 'user') != (loop.index0 % 2 == 0) %}{{ raise_exception('Conversation roles must alternate user/assistant/user/assistant/...') }}{% endif %}{% if message['role'] == 'user' %}{{ 'USER: ' + message['content'].strip() + '' }}{% elif message['role'] == 'assistant' %}{{ 'ASSISTANT: ' + message['content'].strip() + eos_token + '' }}{% endif %}{% if loop.last and message['role'] == 'user' and add_generation_prompt %}{{ 'ASSISTANT:' }}{% endif %}{% endfor %}\""
      ]
     },
     "execution_count": 1,
     "metadata": {},
     "output_type": "execute_result"
    }
   ],
   "source": [
    "# vicuna-7b-v1.5\n",
    "\n",
    "chat_template = \"\"\"{% if messages[0]['role'] == 'system' %}\n",
    "    {% set loop_messages = messages[1:] %}\n",
    "    {% set system_message = messages[0]['content'].strip() + '\\n\\n' %}\n",
    "{% else %}\n",
    "    {% set loop_messages = messages %}\n",
    "    {% set system_message = '' %}\n",
    "{% endif %}\n",
    "\n",
    "{{ bos_token + system_message }}\n",
    "{% for message in loop_messages %}\n",
    "    {% if (message['role'] == 'user') != (loop.index0 % 2 == 0) %}\n",
    "        {{ raise_exception('Conversation roles must alternate user/assistant/user/assistant/...') }}\n",
    "    {% endif %}\n",
    "\n",
    "    {% if message['role'] == 'user' %}\n",
    "        {{ 'USER: ' + message['content'].strip() + '\\n' }}\n",
    "    {% elif message['role'] == 'assistant' %}\n",
    "        {{ 'ASSISTANT: ' + message['content'].strip() + eos_token + '\\n' }}\n",
    "    {% endif %}\n",
    "\n",
    "    {% if loop.last and message['role'] == 'user' and add_generation_prompt %}\n",
    "        {{ 'ASSISTANT:' }}\n",
    "    {% endif %}\n",
    "{% endfor %}\n",
    "\"\"\"\n",
    "\n",
    "chat_template = chat_template.replace('    ', '').replace('\\n', '')\n",
    "\n",
    "chat_template"
   ]
  }
 ],
 "metadata": {
  "kernelspec": {
   "display_name": "pca",
   "language": "python",
   "name": "python3"
  },
  "language_info": {
   "codemirror_mode": {
    "name": "ipython",
    "version": 3
   },
   "file_extension": ".py",
   "mimetype": "text/x-python",
   "name": "python",
   "nbconvert_exporter": "python",
   "pygments_lexer": "ipython3",
   "version": "3.11.8"
  }
 },
 "nbformat": 4,
 "nbformat_minor": 2
}
